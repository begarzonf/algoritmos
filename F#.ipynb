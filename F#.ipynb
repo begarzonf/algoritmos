{
 "cells": [
  {
   "cell_type": "markdown",
   "metadata": {},
   "source": [
    "# Tutorial F_#_"
   ]
  },
  {
   "cell_type": "markdown",
   "metadata": {},
   "source": [
    "Los comentarios de una sola línea usan una barra doble //"
   ]
  },
  {
   "cell_type": "markdown",
   "metadata": {},
   "source": [
    "Para comentar varias lineas se usa (_*_..._*_)"
   ]
  },
  {
   "cell_type": "markdown",
   "metadata": {},
   "source": [
    "# \"Variables\" (pero no realmente)"
   ]
  },
  {
   "cell_type": "markdown",
   "metadata": {},
   "source": [
    "La palabra clave \"let\" define un valor (inmutable)"
   ]
  },
  {
   "cell_type": "code",
   "execution_count": 9,
   "metadata": {},
   "outputs": [],
   "source": [
    "let myInt = 5\n",
    "let myFloat = 3.14\n",
    "let myString = \"hello\""
   ]
  },
  {
   "cell_type": "markdown",
   "metadata": {},
   "source": [
    "Con la palabra clave \"let\" seguida de \"mutable\" se define un valor mutable"
   ]
  },
  {
   "cell_type": "code",
   "execution_count": 44,
   "metadata": {},
   "outputs": [
    {
     "name": "stderr",
     "output_type": "stream",
     "text": [
      "This value is not mutable. Consider using the mutable keyword, e.g. 'let mutable x = expression'."
     ]
    }
   ],
   "source": [
    "let x = 5\n",
    "printfn \"%i\" x\n",
    "x <- x+1\n",
    "printfn \"%i\" x"
   ]
  },
  {
   "cell_type": "code",
   "execution_count": 45,
   "metadata": {},
   "outputs": [
    {
     "data": {
      "text/plain": [
       "5\r\n",
       "6\r\n"
      ]
     },
     "metadata": {},
     "output_type": "display_data"
    }
   ],
   "source": [
    "let mutable x = 5\n",
    "printfn \"%i\" x\n",
    "x <- x+1\n",
    "printfn \"%i\" x"
   ]
  },
  {
   "cell_type": "markdown",
   "metadata": {},
   "source": [
    "# Anotaciones de tipos"
   ]
  },
  {
   "cell_type": "code",
   "execution_count": 57,
   "metadata": {},
   "outputs": [
    {
     "name": "stderr",
     "output_type": "stream",
     "text": [
      "Lookup on object of indeterminate type based on information prior to this program point. A type annotation may be needed prior to this program point to constrain the type of the object. This may allow the lookup to be resolved."
     ]
    }
   ],
   "source": [
    "let toHackerTalk phrase =\n",
    "    phrase.Replace('t', '7').Replace('o', '0')"
   ]
  },
  {
   "cell_type": "markdown",
   "metadata": {},
   "source": [
    "La intención es utilizar la el metodo Replace de la clase String que viene integrada en .NET para reemplazar un par de caracteres con sus alternativas de hacker, pero F# no sabe que la frase es de tipo String. Replace podría ser una llamada válida para muchos tipos, por lo que F# le da el siguiente error: \"Buscar objeto de tipo indeterminado basado en información anterior a este punto del programa. Puede ser necesaria una anotación de tipo antes de este punto del programa para restringir el tipo de el objeto."
   ]
  },
  {
   "cell_type": "code",
   "execution_count": 58,
   "metadata": {},
   "outputs": [],
   "source": [
    "let toHackerTalk (phrase:string) =\n",
    "    phrase.Replace('t', '7').Replace('o', '0')"
   ]
  },
  {
   "cell_type": "markdown",
   "metadata": {},
   "source": [
    "# Listas"
   ]
  },
  {
   "cell_type": "code",
   "execution_count": null,
   "metadata": {},
   "outputs": [],
   "source": [
    "let twoToFive = [2;3;4;5]        // Los corchetes crean una lista con delimitadores de punto y coma\n",
    "let oneToFive = 1 :: twoToFive   // :: crea una lista con un nuevo 1er elemento\n",
    "// El resultado es [1;2;3;4;5]\n",
    "let zeroToFive = [0;1] @ twoToFive   // @ concatena dos listas\n",
    "// IMPORTANTE: ¡las comas nunca se usan como delimitadores, solo puntos y comas!"
   ]
  },
  {
   "cell_type": "markdown",
   "metadata": {},
   "source": [
    "# Funciones"
   ]
  },
  {
   "cell_type": "markdown",
   "metadata": {},
   "source": [
    "La palabra clave \"let\" también define una función nombrada."
   ]
  },
  {
   "cell_type": "code",
   "execution_count": 50,
   "metadata": {},
   "outputs": [
    {
     "data": {
      "text/plain": [
       "9"
      ]
     },
     "execution_count": 50,
     "metadata": {},
     "output_type": "execute_result"
    }
   ],
   "source": [
    "let square x = x * x          // Tenga en cuenta que no se utilizan paréntesis.\n",
    "square 3                      "
   ]
  },
  {
   "cell_type": "code",
   "execution_count": 12,
   "metadata": {},
   "outputs": [
    {
     "data": {
      "text/plain": [
       "5"
      ]
     },
     "execution_count": 12,
     "metadata": {},
     "output_type": "execute_result"
    }
   ],
   "source": [
    "let add x y = x + y           // ¡no use add (x, y)! Significa algo completamente diferente.\n",
    "add 2 3                      "
   ]
  },
  {
   "cell_type": "code",
   "execution_count": 59,
   "metadata": {},
   "outputs": [
    {
     "data": {
      "text/plain": [
       "\"it is Chris!\""
      ]
     },
     "execution_count": 59,
     "metadata": {},
     "output_type": "execute_result"
    }
   ],
   "source": [
    "let chrisTest test =\n",
    "    test \"Chris\"\n",
    "\n",
    "let isMe x =\n",
    "    if x = \"Chris\" then\n",
    "        \"it is Chris!\"\n",
    "    else\n",
    "        \"it's someone else\"\n",
    "\n",
    "chrisTest isMe"
   ]
  },
  {
   "cell_type": "markdown",
   "metadata": {},
   "source": [
    "Para definir una función multilínea, solo use sangrías. No se necesitan puntos y comas."
   ]
  },
  {
   "cell_type": "code",
   "execution_count": 15,
   "metadata": {},
   "outputs": [
    {
     "data": {
      "text/plain": [
       "[2; 4]"
      ]
     },
     "execution_count": 15,
     "metadata": {},
     "output_type": "execute_result"
    }
   ],
   "source": [
    "let twoToFive = [2;3;4;5]        \n",
    "let oneToFive = 1 :: twoToFive   \n",
    "let evens list =\n",
    "   let isEven x = x%2 = 0     // Definir \"isEven\" como una función interna (\"anidada\")\n",
    "   List.filter isEven list    // List.filter es una función de biblioteca con dos parámetros: una función booleana \n",
    "                              // y una lista para trabajar\n",
    "evens oneToFive"
   ]
  },
  {
   "cell_type": "code",
   "execution_count": 61,
   "metadata": {},
   "outputs": [],
   "source": [
    "let quadruple x =    \n",
    "    let double x =\n",
    "        x * 2\n",
    "\n",
    "    double(double(x))"
   ]
  },
  {
   "cell_type": "markdown",
   "metadata": {},
   "source": [
    "Puedes usar parentesis para aclarar la precedencia. En este ejemplo, haga \"map\" primero, con dos argumentos, luego haga \"sum\" en el resultado."
   ]
  },
  {
   "cell_type": "markdown",
   "metadata": {},
   "source": [
    "Sin los parentesis, \"List.map\" se pasará como un argumento a List.sum"
   ]
  },
  {
   "cell_type": "code",
   "execution_count": 52,
   "metadata": {},
   "outputs": [
    {
     "data": {
      "text/plain": [
       "338350"
      ]
     },
     "execution_count": 52,
     "metadata": {},
     "output_type": "execute_result"
    }
   ],
   "source": [
    "let modulo x = x * x    \n",
    "let sumOfSquaresTo100 =\n",
    "   List.sum ( List.map square [1..100] )\n",
    "   \n",
    "sumOfSquaresTo100"
   ]
  },
  {
   "cell_type": "markdown",
   "metadata": {},
   "source": [
    "Puede canalizar la salida de una operación a la siguiente usando \"|>\"\n",
    "Aquí está la misma función sumOfSquares escrita usando tuberias"
   ]
  },
  {
   "cell_type": "code",
   "execution_count": 18,
   "metadata": {},
   "outputs": [
    {
     "data": {
      "text/plain": [
       "338350"
      ]
     },
     "execution_count": 18,
     "metadata": {},
     "output_type": "execute_result"
    }
   ],
   "source": [
    "let square x = x * x \n",
    "let sumOfSquaresTo100piped =\n",
    "   [1..100] |> List.map square |> List.sum\n",
    "sumOfSquaresTo100"
   ]
  },
  {
   "cell_type": "markdown",
   "metadata": {},
   "source": [
    "Puedes definir lambdas (funciones anónimas) usando la palabra clave \"fun\""
   ]
  },
  {
   "cell_type": "code",
   "execution_count": 54,
   "metadata": {},
   "outputs": [
    {
     "data": {
      "text/plain": [
       "338350"
      ]
     },
     "execution_count": 54,
     "metadata": {},
     "output_type": "execute_result"
    }
   ],
   "source": [
    "let sumOfSquaresTo100withFun =\n",
    "   [1..100] |> List.map (fun x->x*x) |> List.sum\n",
    "sumOfSquaresTo100withFun"
   ]
  },
  {
   "cell_type": "markdown",
   "metadata": {},
   "source": [
    "En F # los retornos están implícitos, no se necesita \"devolución\". Una función siempre\n",
    "devuelve el valor de la última expresión utilizada."
   ]
  },
  {
   "cell_type": "markdown",
   "metadata": {},
   "source": [
    "# La coincidencia de patrones"
   ]
  },
  {
   "cell_type": "markdown",
   "metadata": {},
   "source": [
    "Match..with .. es una sentencia caso / interruptor sobrealimentado."
   ]
  },
  {
   "cell_type": "code",
   "execution_count": 22,
   "metadata": {},
   "outputs": [
    {
     "data": {
      "text/plain": [
       "x is a\r\n"
      ]
     },
     "metadata": {},
     "output_type": "display_data"
    }
   ],
   "source": [
    "let simplePatternMatch =\n",
    "   let x = \"a\"\n",
    "   match x with\n",
    "    | \"a\" -> printfn \"x is a\"\n",
    "    | \"b\" -> printfn \"x is b\"\n",
    "    | _ -> printfn \"x is something else\"\n",
    "simplePatternMatch"
   ]
  },
  {
   "cell_type": "markdown",
   "metadata": {},
   "source": [
    "Some(..) y None son más o menos análogos a los envoltorios Nullable"
   ]
  },
  {
   "cell_type": "code",
   "execution_count": 23,
   "metadata": {},
   "outputs": [
    {
     "data": {
      "text/plain": [
       "input is an int=99\r\n",
       "input is missing\r\n"
      ]
     },
     "metadata": {},
     "output_type": "display_data"
    }
   ],
   "source": [
    "let validValue = Some(99)\n",
    "let invalidValue = None\n",
    "\n",
    "// En este ejemplo, match..with coincide con \"Some\" y \"None\",\n",
    "// y también desempaqueta el valor en \"Some\" al mismo tiempo.\n",
    "let optionPatternMatch input =\n",
    "   match input with\n",
    "    | Some i -> printfn \"input is an int=%d\" i\n",
    "    | None -> printfn \"input is missing\"\n",
    "\n",
    "optionPatternMatch validValue\n",
    "optionPatternMatch invalidValue"
   ]
  },
  {
   "cell_type": "markdown",
   "metadata": {},
   "source": [
    "# Tipos de datos complejos"
   ]
  },
  {
   "cell_type": "markdown",
   "metadata": {},
   "source": [
    "Los tipos Tuple son pares, triples, etc. Las tuplas usan comas."
   ]
  },
  {
   "cell_type": "code",
   "execution_count": 25,
   "metadata": {},
   "outputs": [
    {
     "data": {
      "text/plain": [
       "(\"a\", 2, true)\r\n"
      ]
     },
     "metadata": {},
     "output_type": "display_data"
    }
   ],
   "source": [
    "let twoTuple = 1,2\n",
    "let threeTuple = \"a\",2,true\n",
    "printfn \"%A\" threeTuple"
   ]
  },
  {
   "cell_type": "markdown",
   "metadata": {},
   "source": [
    "Los tipos de registro tienen campos con nombre. Los puntos y coma son separadores."
   ]
  },
  {
   "cell_type": "code",
   "execution_count": null,
   "metadata": {},
   "outputs": [],
   "source": [
    "type Person = {First:string; Last:string}\n",
    "let person1 = {First=\"john\"; Last=\"Doe\"}\n",
    "\n",
    "// Los tipos de unión tienen opciones. Las barras verticales son separadores.\n",
    "type Temp = \n",
    "\t| DegreesC of float\n",
    "\t| DegreesF of float\n",
    "let temp = DegreesF 98.6\n",
    "\n",
    "// Los tipos se pueden combinar recursivamente de formas complejas.\n",
    "// P.ej. aquí hay un tipo de unión que contiene una lista del mismo tipo:\n",
    "type Employee = \n",
    "  | Worker of Person\n",
    "  | Manager of Employee list\n",
    "let jdoe = {First=\"John\";Last=\"Doe\"}\n",
    "let worker = Worker jdoe"
   ]
  },
  {
   "cell_type": "markdown",
   "metadata": {},
   "source": [
    "# Impresión "
   ]
  },
  {
   "cell_type": "markdown",
   "metadata": {},
   "source": [
    "Las funciones printf / printfn son similares a las funciones Console.Write / WriteLine en C#."
   ]
  },
  {
   "cell_type": "code",
   "execution_count": 26,
   "metadata": {},
   "outputs": [
    {
     "data": {
      "text/plain": [
       "Printing an int 1, a float 2.000000, a bool true\r\n",
       "A string hello, and something generic [1; 2; 3; 4]\r\n"
      ]
     },
     "metadata": {},
     "output_type": "display_data"
    }
   ],
   "source": [
    "printfn \"Printing an int %i, a float %f, a bool %b\" 1 2.0 true\n",
    "printfn \"A string %s, and something generic %A\" \"hello\" [1;2;3;4]"
   ]
  },
  {
   "cell_type": "markdown",
   "metadata": {},
   "source": [
    "Todos los tipos complejos tienen una bonita impresión integrada"
   ]
  },
  {
   "cell_type": "code",
   "execution_count": 43,
   "metadata": {},
   "outputs": [
    {
     "data": {
      "text/plain": [
       "twoTuple=(1, 2), \n",
       "Person={First = \"john\";\n",
       " Last = \"Doe\";}, \n",
       "Temp=DegreesF 98.6, \n",
       "Employee=Worker {First = \"John\";\n",
       "        Last = \"Doe\";}\r\n"
      ]
     },
     "metadata": {},
     "output_type": "display_data"
    }
   ],
   "source": [
    "let twoTuple = 1,2\n",
    "type Person = {First:string; Last:string}\n",
    "let person1 = {First=\"john\"; Last=\"Doe\"}\n",
    "type Temp = \n",
    "    | DegreesC of float\n",
    "    | DegreesF of float\n",
    "    \n",
    "let temp = DegreesF 98.6\n",
    "\n",
    "type Employee = \n",
    "    | Worker of Person\n",
    "    | Manager of Employee list\n",
    "let jdoe = {First=\"John\";Last=\"Doe\"}\n",
    "let worker = Worker jdoe\n",
    "printfn \"twoTuple=%A, \\nPerson=%A, \\nTemp=%A, \\nEmployee=%A\" \n",
    "        twoTuple person1 temp worker\n"
   ]
  },
  {
   "cell_type": "code",
   "execution_count": 55,
   "metadata": {},
   "outputs": [
    {
     "data": {
      "text/plain": [
       "The answer is 42\r\n"
      ]
     },
     "metadata": {},
     "output_type": "display_data"
    }
   ],
   "source": [
    "printfn \"The answer is %d\" 42"
   ]
  },
  {
   "cell_type": "markdown",
   "metadata": {},
   "source": [
    "%d le dice a printfn que inserte un valor entero en la cadena de salida, por lo que F# imprimirá \"La respuesta es 42\" en la ventana de salida."
   ]
  },
  {
   "cell_type": "code",
   "execution_count": 56,
   "metadata": {},
   "outputs": [
    {
     "name": "stderr",
     "output_type": "stream",
     "text": [
      "The type 'string' is not compatible with any of the types byte,int16,int32,int64,sbyte,uint16,uint32,uint64,nativeint,unativeint, arising from the use of a printf-style format string"
     ]
    }
   ],
   "source": [
    "printfn \"The answer is %d\" \"not an integer!\""
   ]
  },
  {
   "cell_type": "markdown",
   "metadata": {},
   "source": [
    "\"not an integer\" viola el formato de cadena, por lo que  F# te advierte de manera útil sobre tu error. Para obtener una lista completa de las opciones de formato, consulta esta página:\n",
    "https://msdn.microsoft.com/visualfsharpdocs/conceptual/core.printf-module-%5bfsharp%5d"
   ]
  },
  {
   "cell_type": "code",
   "execution_count": null,
   "metadata": {},
   "outputs": [],
   "source": []
  }
 ],
 "metadata": {
  "kernelspec": {
   "display_name": "F#",
   "language": "fsharp",
   "name": "ifsharp"
  },
  "language": "fsharp",
  "language_info": {
   "codemirror_mode": "",
   "file_extension": ".fs",
   "mimetype": "text/x-fsharp",
   "name": "fsharp",
   "nbconvert_exporter": "",
   "pygments_lexer": "",
   "version": "4.3.1.0"
  }
 },
 "nbformat": 4,
 "nbformat_minor": 2
}
