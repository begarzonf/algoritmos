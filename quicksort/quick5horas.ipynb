{
 "cells": [
  {
   "cell_type": "code",
   "execution_count": 1,
   "metadata": {},
   "outputs": [
    {
     "data": {
     "image/png": "[encoded data removed]",
      "text/plain": [
       "<Figure size 640x480 with 1 Axes>"
      ]
     },
     "metadata": {},
     "output_type": "display_data"
    },
    {
     "name": "stdout",
     "output_type": "stream",
     "text": [
      "n 16\n",
      "runs 150000000\n",
      "mean 83.66635982\n",
      "min 67\n",
      "max 146\n"
     ]
    },
    {
     "data": {
     "image/png": "[encoded data removed]",
      "text/plain": [
       "<Figure size 640x480 with 1 Axes>"
      ]
     },
     "metadata": {},
     "output_type": "display_data"
    },
    {
     "name": "stdout",
     "output_type": "stream",
     "text": [
      "n 16\n",
      "runs 150000000\n",
      "mean 0.00011458914237031413\n",
      "min 8.601597437518649e-05\n",
      "max 164.4320686464198\n",
      "26716.950111678987\n"
     ]
    }
   ],
   "source": [
    "import random\n",
    "import matplotlib.pyplot as plt\n",
    "import time\n",
    "def randomquicksort(alist,times):\n",
    "   comp = [0]\n",
    "   randomquicksorthelper(alist,0,len(alist)-1,comp)\n",
    "   times.append(comp[0])\n",
    "def randomquicksorthelper(alist,first,last,comp):\n",
    "   if first<last:\n",
    "\n",
    "       r = randompartition(alist,first,last)\n",
    "       splitpoint = r[0]\n",
    "       tmp = comp.pop()\n",
    "       comp.append(tmp+r[1])\n",
    "    \n",
    "       randomquicksorthelper(alist,first,splitpoint-1,comp)\n",
    "       randomquicksorthelper(alist,splitpoint+1,last,comp)\n",
    "def randompartition(alist,first,last):\n",
    "  \n",
    "   indxpiv = random.randint(first,last)\n",
    "   temp = alist[indxpiv]\n",
    "   alist[indxpiv] = alist[first]\n",
    "   alist[first] = temp\n",
    "   \n",
    "   pivotvalue = alist[first]\n",
    "   compspart = 0\n",
    "\n",
    "   leftmark = first+1\n",
    "   rightmark = last\n",
    "\n",
    "   done = False\n",
    "   while not done:\n",
    "\n",
    "       while leftmark <= rightmark and alist[leftmark] <= pivotvalue:\n",
    "           leftmark = leftmark + 1\n",
    "           compspart = compspart + 1\n",
    "       compspart = compspart + 1\n",
    "\n",
    "       while alist[rightmark] >= pivotvalue and rightmark >= leftmark:\n",
    "           rightmark = rightmark -1\n",
    "           compspart = compspart + 1\n",
    "       compspart = compspart + 1\n",
    "\n",
    "       if rightmark < leftmark:\n",
    "           done = True\n",
    "       else:\n",
    "           temp = alist[leftmark]\n",
    "           alist[leftmark] = alist[rightmark]\n",
    "           alist[rightmark] = temp\n",
    "\n",
    "   temp = alist[first]\n",
    "   alist[first] = alist[rightmark]\n",
    "   alist[rightmark] = temp\n",
    "\n",
    "\n",
    "   return rightmark,compspart\n",
    "def randomquicksorttimedistrib(s,r):\n",
    "    \n",
    "    # Create an array of 1 .. n  \n",
    "    n=s\n",
    "    runs=r\n",
    "    x = []\n",
    "    for i in range(1,n+1):\n",
    "        x.append(n+1-i)\n",
    "    \n",
    "     # Run quicksort for each permutation\n",
    "    tlist =[]\n",
    "    timelist=[]\n",
    "    for p in range(1,runs+1):\n",
    "          y = list(x)\n",
    "          s=time.clock()  \n",
    "          randomquicksort(y,tlist)\n",
    "          timelist.append(time.clock()-s)  \n",
    "          \n",
    "        \n",
    "    plt.hist(tlist)\n",
    "    plt.title(\"Number of comparison of Quicksort for all permutaions\")\n",
    "    plt.xlabel(\"Comparisons of elements\")\n",
    "    plt.ylabel(\"Frequency\")\n",
    "    plt.show()\n",
    "    \n",
    "    print(\"n\",n)\n",
    "    print(\"runs\",runs)\n",
    "    print(\"mean\",sum(tlist)/len(tlist))\n",
    "    print(\"min\",min(tlist))\n",
    "    print(\"max\",max(tlist))\n",
    "    \n",
    "    plt.hist(timelist,log=True)\n",
    "    plt.title(\"computational time of Quicksort for all permutaions\")\n",
    "    plt.xlabel(\"time\")\n",
    "    plt.ylabel(\"Frequency\")\n",
    "    plt.show()\n",
    "    \n",
    "    print(\"n\",n)\n",
    "    print(\"runs\",runs)\n",
    "    print(\"mean\",sum(timelist)/len(timelist))\n",
    "    print(\"min\",min(timelist))\n",
    "    print(\"max\",max(timelist))\n",
    "t=time.clock()    \n",
    "randomquicksorttimedistrib(16,150000000)\n",
    "print(time.clock()-t)"
   ]
  },
  {
   "cell_type": "markdown",
   "metadata": {},
   "source": [
    "tardo 26716.950111678987 segundos que equivalen a 445.2825018613164616 minutos que equivalen a 7.421375031021940849 horas por lo que se evidencia que el calculo no fue tan acertado y se necesitaban muchos menos runs para ejecutarlo por tan solo 5 horas "
   ]
  },
  {
   "cell_type": "code",
   "execution_count": null,
   "metadata": {},
   "outputs": [],
   "source": []
  }
 ],
 "metadata": {
  "kernelspec": {
   "display_name": "Python 3",
   "language": "python",
   "name": "python3"
  },
  "language_info": {
   "codemirror_mode": {
    "name": "ipython",
    "version": 3
   },
   "file_extension": ".py",
   "mimetype": "text/x-python",
   "name": "python",
   "nbconvert_exporter": "python",
   "pygments_lexer": "ipython3",
   "version": "3.6.4"
  }
 },
 "nbformat": 4,
 "nbformat_minor": 2
}
